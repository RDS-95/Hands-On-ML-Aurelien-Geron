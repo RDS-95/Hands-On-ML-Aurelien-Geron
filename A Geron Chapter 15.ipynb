{
 "cells": [
  {
   "cell_type": "markdown",
   "id": "c099f906",
   "metadata": {},
   "source": [
    "# Processing Sequences using RNNs and CNNs"
   ]
  },
  {
   "cell_type": "markdown",
   "id": "ebfdeb66",
   "metadata": {},
   "source": [
    "This chapter looks at fundamental concepts of RNNs and how to train them using backpropagation. Using RNNs to forecast time series\n",
    "\n",
    "For small sequences, a dense network can work. for long sequences, CNNs can also work very well.\n",
    "\n",
    "Once the intial theory is read, let's forecast a time series"
   ]
  },
  {
   "cell_type": "code",
   "execution_count": 16,
   "id": "232b8803",
   "metadata": {},
   "outputs": [],
   "source": [
    "import numpy as np\n",
    "import keras\n",
    "import matplotlib.pyplot as plt\n",
    "import matplotlib as mpl"
   ]
  },
  {
   "cell_type": "code",
   "execution_count": 5,
   "id": "0757afde",
   "metadata": {},
   "outputs": [],
   "source": [
    "def generate_time_series(batch_size, n_steps):\n",
    "    freq1, freq2, offsets1, offsets2 = np.random.rand(4, batch_size, 1)\n",
    "    time = np.linspace(0, 1, n_steps)\n",
    "    series = 0.5 * np.sin((time - offsets1) * (freq1 * 10 + 10))\n",
    "    series += 0.2 * np.sin((time - offsets2) * (freq2 * 20 + 20))\n",
    "    series += 0.1 *  (np.random.rand(batch_size, n_steps) - 0.5)\n",
    "    return series[..., np.newaxis].astype(np.float32)\n",
    "\n",
    "#This creates as many time series as requested by batch_size\n",
    "#all are univariate, with one value per time step and some noise added in"
   ]
  },
  {
   "cell_type": "code",
   "execution_count": 6,
   "id": "2e4072ed",
   "metadata": {},
   "outputs": [],
   "source": [
    "n_steps = 50\n",
    "\n",
    "series = generate_time_series(10000, n_steps + 1)\n",
    "\n",
    "X_train, y_train = series[:7000, :n_steps], series[:7000, -1]\n",
    "X_valid, y_valid = series[7000:9000, :n_steps], series[7000:9000, -1]\n",
    "X_test, y_test = series[9000:, :n_steps], series[9000:, -1]"
   ]
  },
  {
   "cell_type": "code",
   "execution_count": 9,
   "id": "51684449",
   "metadata": {},
   "outputs": [
    {
     "data": {
      "text/plain": [
       "0.020155853"
      ]
     },
     "execution_count": 9,
     "metadata": {},
     "output_type": "execute_result"
    }
   ],
   "source": [
    "#Naive forecasting can be our baseline metric. ie. we have to outperform just predicting the last value for all.\n",
    "\n",
    "y_pred = X_valid[:, -1]\n",
    "np.mean(keras.losses.mean_squared_error(y_valid, y_pred))"
   ]
  },
  {
   "cell_type": "code",
   "execution_count": 11,
   "id": "865f18cb",
   "metadata": {},
   "outputs": [
    {
     "name": "stdout",
     "output_type": "stream",
     "text": [
      "Epoch 1/20\n",
      "219/219 [==============================] - 2s 5ms/step - loss: 0.0574 - val_loss: 0.0295\n",
      "Epoch 2/20\n",
      "219/219 [==============================] - 1s 4ms/step - loss: 0.0198 - val_loss: 0.0155\n",
      "Epoch 3/20\n",
      "219/219 [==============================] - 1s 4ms/step - loss: 0.0118 - val_loss: 0.0106\n",
      "Epoch 4/20\n",
      "219/219 [==============================] - 1s 4ms/step - loss: 0.0088 - val_loss: 0.0086\n",
      "Epoch 5/20\n",
      "219/219 [==============================] - 1s 4ms/step - loss: 0.0073 - val_loss: 0.0073\n",
      "Epoch 6/20\n",
      "219/219 [==============================] - 1s 4ms/step - loss: 0.0063 - val_loss: 0.0065\n",
      "Epoch 7/20\n",
      "219/219 [==============================] - 1s 4ms/step - loss: 0.0056 - val_loss: 0.0057\n",
      "Epoch 8/20\n",
      "219/219 [==============================] - 1s 4ms/step - loss: 0.0050 - val_loss: 0.0054\n",
      "Epoch 9/20\n",
      "219/219 [==============================] - 1s 4ms/step - loss: 0.0047 - val_loss: 0.0049\n",
      "Epoch 10/20\n",
      "219/219 [==============================] - 1s 4ms/step - loss: 0.0044 - val_loss: 0.0046\n",
      "Epoch 11/20\n",
      "219/219 [==============================] - 1s 4ms/step - loss: 0.0042 - val_loss: 0.0045\n",
      "Epoch 12/20\n",
      "219/219 [==============================] - 1s 4ms/step - loss: 0.0041 - val_loss: 0.0042\n",
      "Epoch 13/20\n",
      "219/219 [==============================] - 1s 4ms/step - loss: 0.0039 - val_loss: 0.0041\n",
      "Epoch 14/20\n",
      "219/219 [==============================] - 1s 4ms/step - loss: 0.0039 - val_loss: 0.0041\n",
      "Epoch 15/20\n",
      "219/219 [==============================] - 1s 4ms/step - loss: 0.0038 - val_loss: 0.0041\n",
      "Epoch 16/20\n",
      "219/219 [==============================] - 1s 4ms/step - loss: 0.0037 - val_loss: 0.0039\n",
      "Epoch 17/20\n",
      "219/219 [==============================] - 1s 4ms/step - loss: 0.0036 - val_loss: 0.0038\n",
      "Epoch 18/20\n",
      "219/219 [==============================] - 1s 4ms/step - loss: 0.0036 - val_loss: 0.0038\n",
      "Epoch 19/20\n",
      "219/219 [==============================] - 1s 4ms/step - loss: 0.0035 - val_loss: 0.0037\n",
      "Epoch 20/20\n",
      "219/219 [==============================] - 1s 4ms/step - loss: 0.0035 - val_loss: 0.0037\n"
     ]
    }
   ],
   "source": [
    "#so we're trying to beat 0.02 mse, \n",
    "#but we can also make a linear regression model which could serve as a more ambitious target\n",
    "\n",
    "model = keras.models.Sequential([\n",
    "    keras.layers.Flatten(input_shape=[50, 1]),\n",
    "    keras.layers.Dense(1)    \n",
    "])\n",
    "\n",
    "model.compile(loss=\"mse\", optimizer=\"adam\")\n",
    "history = model.fit(X_train, y_train, epochs=20,\n",
    "                    validation_data=(X_valid, y_valid))"
   ]
  },
  {
   "cell_type": "code",
   "execution_count": 17,
   "id": "b9af9dae",
   "metadata": {},
   "outputs": [
    {
     "data": {
      "image/png": "[encoded data removed]",
      "text/plain": [
       "<Figure size 432x288 with 1 Axes>"
      ]
     },
     "metadata": {
      "needs_background": "light"
     },
     "output_type": "display_data"
    }
   ],
   "source": [
    "def plot_learning_curves(loss, val_loss):\n",
    "    plt.plot(np.arange(len(loss)) + 0.5, loss, \"b.-\", label=\"Training loss\")\n",
    "    plt.plot(np.arange(len(val_loss)) + 1, val_loss, \"r.-\", label=\"Validation loss\")\n",
    "    plt.gca().xaxis.set_major_locator(mpl.ticker.MaxNLocator(integer=True))\n",
    "    plt.axis([1, 20, 0, 0.05])\n",
    "    plt.legend(fontsize=14)\n",
    "    plt.xlabel(\"Epochs\")\n",
    "    plt.ylabel(\"Loss\")\n",
    "    plt.grid(True)\n",
    "\n",
    "plot_learning_curves(history.history[\"loss\"], history.history[\"val_loss\"])\n",
    "plt.show()"
   ]
  },
  {
   "cell_type": "code",
   "execution_count": 18,
   "id": "faa04e3c",
   "metadata": {},
   "outputs": [
    {
     "name": "stdout",
     "output_type": "stream",
     "text": [
      "Epoch 1/20\n",
      "219/219 [==============================] - 7s 25ms/step - loss: 0.8105 - val_loss: 0.5227\n",
      "Epoch 2/20\n",
      "219/219 [==============================] - 5s 22ms/step - loss: 0.3830 - val_loss: 0.2520\n",
      "Epoch 3/20\n",
      "219/219 [==============================] - 5s 22ms/step - loss: 0.1853 - val_loss: 0.1421\n",
      "Epoch 4/20\n",
      "219/219 [==============================] - 5s 22ms/step - loss: 0.1463 - val_loss: 0.1524\n",
      "Epoch 5/20\n",
      "219/219 [==============================] - 5s 22ms/step - loss: 0.1442 - val_loss: 0.1438\n",
      "Epoch 6/20\n",
      "219/219 [==============================] - 5s 22ms/step - loss: 0.1435 - val_loss: 0.1623\n",
      "Epoch 7/20\n",
      "219/219 [==============================] - 5s 22ms/step - loss: 0.1423 - val_loss: 0.1269\n",
      "Epoch 8/20\n",
      "219/219 [==============================] - 5s 22ms/step - loss: 0.0826 - val_loss: 0.0559\n",
      "Epoch 9/20\n",
      "219/219 [==============================] - 5s 22ms/step - loss: 0.0455 - val_loss: 0.0380\n",
      "Epoch 10/20\n",
      "219/219 [==============================] - 5s 22ms/step - loss: 0.0336 - val_loss: 0.0298\n",
      "Epoch 11/20\n",
      "219/219 [==============================] - 5s 22ms/step - loss: 0.0273 - val_loss: 0.0250\n",
      "Epoch 12/20\n",
      "219/219 [==============================] - 5s 22ms/step - loss: 0.0233 - val_loss: 0.0216\n",
      "Epoch 13/20\n",
      "219/219 [==============================] - 5s 22ms/step - loss: 0.0205 - val_loss: 0.0192\n",
      "Epoch 14/20\n",
      "219/219 [==============================] - 5s 22ms/step - loss: 0.0183 - val_loss: 0.0173\n",
      "Epoch 15/20\n",
      "219/219 [==============================] - 5s 22ms/step - loss: 0.0167 - val_loss: 0.0159\n",
      "Epoch 16/20\n",
      "219/219 [==============================] - 5s 22ms/step - loss: 0.0154 - val_loss: 0.0147\n",
      "Epoch 17/20\n",
      "219/219 [==============================] - 5s 22ms/step - loss: 0.0143 - val_loss: 0.0138\n",
      "Epoch 18/20\n",
      "219/219 [==============================] - 5s 22ms/step - loss: 0.0135 - val_loss: 0.0130\n",
      "Epoch 19/20\n",
      "219/219 [==============================] - 5s 22ms/step - loss: 0.0128 - val_loss: 0.0124\n",
      "Epoch 20/20\n",
      "219/219 [==============================] - 5s 22ms/step - loss: 0.0123 - val_loss: 0.0119\n"
     ]
    }
   ],
   "source": [
    "#So our target should be below 0.0035 in this case\n",
    "#First try a simple RNN\n",
    "\n",
    "model = keras.models.Sequential([\n",
    "    keras.layers.SimpleRNN(1, input_shape=[None, 1])\n",
    "])\n",
    "\n",
    "optimizer = keras.optimizers.Adam(learning_rate=0.005)\n",
    "model.compile(loss=\"mse\", optimizer=optimizer)\n",
    "history = model.fit(X_train, y_train, epochs=20,\n",
    "                    validation_data=(X_valid, y_valid))"
   ]
  },
  {
   "cell_type": "code",
   "execution_count": 20,
   "id": "168c62c4",
   "metadata": {},
   "outputs": [
    {
     "name": "stdout",
     "output_type": "stream",
     "text": [
      "Epoch 1/20\n",
      "219/219 [==============================] - 21s 68ms/step - loss: 0.0107 - val_loss: 0.0043\n",
      "Epoch 2/20\n",
      "219/219 [==============================] - 14s 64ms/step - loss: 0.0035 - val_loss: 0.0034\n",
      "Epoch 3/20\n",
      "219/219 [==============================] - 14s 64ms/step - loss: 0.0031 - val_loss: 0.0034\n",
      "Epoch 4/20\n",
      "219/219 [==============================] - 14s 63ms/step - loss: 0.0031 - val_loss: 0.0033\n",
      "Epoch 5/20\n",
      "219/219 [==============================] - 14s 63ms/step - loss: 0.0030 - val_loss: 0.0034\n",
      "Epoch 6/20\n",
      "219/219 [==============================] - 14s 63ms/step - loss: 0.0029 - val_loss: 0.0032\n",
      "Epoch 7/20\n",
      "219/219 [==============================] - 14s 62ms/step - loss: 0.0029 - val_loss: 0.0032\n",
      "Epoch 8/20\n",
      "219/219 [==============================] - 14s 63ms/step - loss: 0.0029 - val_loss: 0.0032\n",
      "Epoch 9/20\n",
      "219/219 [==============================] - 13s 61ms/step - loss: 0.0028 - val_loss: 0.0032\n",
      "Epoch 10/20\n",
      "219/219 [==============================] - 14s 63ms/step - loss: 0.0029 - val_loss: 0.0032\n",
      "Epoch 11/20\n",
      "219/219 [==============================] - 14s 63ms/step - loss: 0.0028 - val_loss: 0.0030\n",
      "Epoch 12/20\n",
      "219/219 [==============================] - 14s 62ms/step - loss: 0.0027 - val_loss: 0.0031\n",
      "Epoch 13/20\n",
      "219/219 [==============================] - 14s 63ms/step - loss: 0.0028 - val_loss: 0.0029\n",
      "Epoch 14/20\n",
      "219/219 [==============================] - 14s 63ms/step - loss: 0.0027 - val_loss: 0.0029\n",
      "Epoch 15/20\n",
      "219/219 [==============================] - 14s 63ms/step - loss: 0.0026 - val_loss: 0.0029\n",
      "Epoch 16/20\n",
      "219/219 [==============================] - 14s 63ms/step - loss: 0.0026 - val_loss: 0.0029\n",
      "Epoch 17/20\n",
      "219/219 [==============================] - 14s 63ms/step - loss: 0.0027 - val_loss: 0.0029\n",
      "Epoch 18/20\n",
      "219/219 [==============================] - 13s 61ms/step - loss: 0.0026 - val_loss: 0.0030\n",
      "Epoch 19/20\n",
      "219/219 [==============================] - 14s 63ms/step - loss: 0.0027 - val_loss: 0.0028\n",
      "Epoch 20/20\n",
      "219/219 [==============================] - 14s 62ms/step - loss: 0.0026 - val_loss: 0.0028\n"
     ]
    }
   ],
   "source": [
    "#Beats the naive forecast but not the linear regression\n",
    "#probably need more complexity to achieve better results\n",
    "\n",
    "model = keras.models.Sequential([\n",
    "    keras.layers.SimpleRNN(20, return_sequences=True, input_shape=[None, 1]),\n",
    "    keras.layers.SimpleRNN(20, return_sequences=True),\n",
    "    keras.layers.SimpleRNN(1)\n",
    "])\n",
    "\n",
    "model.compile(loss=\"mse\", optimizer=\"adam\")\n",
    "history = model.fit(X_train, y_train, epochs=20,\n",
    "                    validation_data=(X_valid, y_valid))"
   ]
  },
  {
   "cell_type": "code",
   "execution_count": 21,
   "id": "067ec1ff",
   "metadata": {},
   "outputs": [
    {
     "name": "stdout",
     "output_type": "stream",
     "text": [
      "1/1 [==============================] - 1s 1s/step\n",
      "1/1 [==============================] - 0s 72ms/step\n",
      "1/1 [==============================] - 0s 66ms/step\n",
      "1/1 [==============================] - 0s 64ms/step\n",
      "1/1 [==============================] - 0s 62ms/step\n",
      "1/1 [==============================] - 0s 68ms/step\n",
      "1/1 [==============================] - 0s 62ms/step\n",
      "1/1 [==============================] - 0s 80ms/step\n",
      "1/1 [==============================] - 0s 72ms/step\n",
      "1/1 [==============================] - 0s 72ms/step\n"
     ]
    }
   ],
   "source": [
    "#This RNN beats the linear reg from earlier.\n",
    "#These so far have only predicted the value of the next immediate time step.\n",
    "#forecasting several time steps ahead is more difficult.\n",
    "\n",
    "#options for predicting a number of time steps:\n",
    "#use the previous model, make it predict the next value, add that value to the inputs\n",
    "#then use the model to predict the next value, etc\n",
    "\n",
    "series = generate_time_series(1, n_steps + 10)\n",
    "X_new, y_new = series[:, :n_steps], series[:, n_steps:]\n",
    "X = X_new\n",
    "\n",
    "for step_ahead in range(10):\n",
    "    y_pred_one = model.predict(X[:, step_ahead:])[:, np.newaxis, :]\n",
    "    X = np.concatenate([X, y_pred_one], axis=1)\n",
    "    \n",
    "Y_pred = X[:, n_steps:]"
   ]
  },
  {
   "cell_type": "code",
   "execution_count": 22,
   "id": "1d363130",
   "metadata": {},
   "outputs": [
    {
     "data": {
      "text/plain": [
       "(1, 10, 1)"
      ]
     },
     "execution_count": 22,
     "metadata": {},
     "output_type": "execute_result"
    }
   ],
   "source": [
    "Y_pred.shape"
   ]
  },
  {
   "cell_type": "code",
   "execution_count": 26,
   "id": "9d2fa642",
   "metadata": {},
   "outputs": [
    {
     "data": {
      "image/png": "[encoded data removed]",
      "text/plain": [
       "<Figure size 864x288 with 3 Axes>"
      ]
     },
     "metadata": {
      "needs_background": "light"
     },
     "output_type": "display_data"
    },
    {
     "data": {
      "image/png": "[encoded data removed]",
      "text/plain": [
       "<Figure size 432x288 with 1 Axes>"
      ]
     },
     "metadata": {
      "needs_background": "light"
     },
     "output_type": "display_data"
    }
   ],
   "source": [
    "def plot_series(series, y=None, y_pred=None, x_label=\"$t$\", y_label=\"$x(t)$\", legend=True):\n",
    "    plt.plot(series, \".-\")\n",
    "    if y is not None:\n",
    "        plt.plot(n_steps, y, \"bo\", label=\"Target\")\n",
    "    if y_pred is not None:\n",
    "        plt.plot(n_steps, y_pred, \"rx\", markersize=10, label=\"Prediction\")\n",
    "    plt.grid(True)\n",
    "    if x_label:\n",
    "        plt.xlabel(x_label, fontsize=16)\n",
    "    if y_label:\n",
    "        plt.ylabel(y_label, fontsize=16, rotation=0)\n",
    "    plt.hlines(0, 0, 100, linewidth=1)\n",
    "    plt.axis([0, n_steps + 1, -1, 1])\n",
    "    if legend and (y or y_pred):\n",
    "        plt.legend(fontsize=14, loc=\"upper left\")\n",
    "\n",
    "fig, axes = plt.subplots(nrows=1, ncols=3, sharey=True, figsize=(12, 4))\n",
    "for col in range(3):\n",
    "    plt.sca(axes[col])\n",
    "    plot_series(X_valid[col, :, 0], y_valid[col, 0],\n",
    "                y_label=(\"$x(t)$\" if col==0 else None),\n",
    "                legend=(col == 0))\n",
    "\n",
    "plt.show()\n",
    "\n",
    "def plot_multiple_forecasts(X, Y, Y_pred):\n",
    "    n_steps = X.shape[1]\n",
    "    ahead = Y.shape[1]\n",
    "    plot_series(X[0, :, 0])\n",
    "    plt.plot(np.arange(n_steps, n_steps + ahead), Y[0, :, 0], \"bo-\", label=\"Actual\")\n",
    "    plt.plot(np.arange(n_steps, n_steps + ahead), Y_pred[0, :, 0], \"rx-\", label=\"Forecast\", markersize=10)\n",
    "    plt.axis([0, n_steps + ahead, -1, 1])\n",
    "    plt.legend(fontsize=14)\n",
    "\n",
    "plot_multiple_forecasts(X_new, y_new, Y_pred)\n",
    "plt.show()"
   ]
  },
  {
   "cell_type": "code",
   "execution_count": 27,
   "id": "0f262bfc",
   "metadata": {},
   "outputs": [],
   "source": [
    "#The other option for predicting multiple steps:\n",
    "#train an RNN model to predict all 10 values at once. \n",
    "#Using a seq to vec model to output all 10 values at once.\n",
    "\n",
    "series = generate_time_series(10000, n_steps + 10)\n",
    "\n",
    "X_train, Y_train = series[:7000, :n_steps], series[:7000, -10:, 0]\n",
    "X_valid, Y_valid = series[7000:9000, n_steps], series[7000:9000, -10:, 0]\n",
    "X_test, Y_test = series[9000, :n_steps], series[9000:, -10:, 0]"
   ]
  },
  {
   "cell_type": "code",
   "execution_count": 28,
   "id": "4d440459",
   "metadata": {},
   "outputs": [],
   "source": [
    "model = keras.models.Sequential([\n",
    "    keras.layers.SimpleRNN(20, return_sequences=True, input_shape=[None, 1]),\n",
    "    keras.layers.SimpleRNN(20),\n",
    "    keras.layers.Dense(10)\n",
    "])"
   ]
  },
  {
   "cell_type": "code",
   "execution_count": 30,
   "id": "9d2525df",
   "metadata": {},
   "outputs": [
    {
     "name": "stdout",
     "output_type": "stream",
     "text": [
      "Epoch 1/20\n",
      "219/219 [==============================] - 14s 47ms/step - loss: 0.0541 - val_loss: 0.1197\n",
      "Epoch 2/20\n",
      "219/219 [==============================] - 10s 46ms/step - loss: 0.0284 - val_loss: 0.1091\n",
      "Epoch 3/20\n",
      "219/219 [==============================] - 10s 46ms/step - loss: 0.0198 - val_loss: 0.1151\n",
      "Epoch 4/20\n",
      "219/219 [==============================] - 10s 47ms/step - loss: 0.0158 - val_loss: 0.1221\n",
      "Epoch 5/20\n",
      "219/219 [==============================] - 10s 46ms/step - loss: 0.0138 - val_loss: 0.1281\n",
      "Epoch 6/20\n",
      "219/219 [==============================] - 10s 47ms/step - loss: 0.0126 - val_loss: 0.1340\n",
      "Epoch 7/20\n",
      "219/219 [==============================] - 10s 46ms/step - loss: 0.0120 - val_loss: 0.1378\n",
      "Epoch 8/20\n",
      "219/219 [==============================] - 9s 43ms/step - loss: 0.0118 - val_loss: 0.1415\n",
      "Epoch 9/20\n",
      "219/219 [==============================] - 9s 43ms/step - loss: 0.0109 - val_loss: 0.1463\n",
      "Epoch 10/20\n",
      "219/219 [==============================] - 10s 44ms/step - loss: 0.0108 - val_loss: 0.1480\n",
      "Epoch 11/20\n",
      "219/219 [==============================] - 10s 45ms/step - loss: 0.0101 - val_loss: 0.1505\n",
      "Epoch 12/20\n",
      "219/219 [==============================] - 10s 44ms/step - loss: 0.0101 - val_loss: 0.1527\n",
      "Epoch 13/20\n",
      "219/219 [==============================] - 10s 44ms/step - loss: 0.0100 - val_loss: 0.1549\n",
      "Epoch 14/20\n",
      "219/219 [==============================] - 9s 43ms/step - loss: 0.0097 - val_loss: 0.1576\n",
      "Epoch 15/20\n",
      "219/219 [==============================] - 9s 43ms/step - loss: 0.0095 - val_loss: 0.1570\n",
      "Epoch 16/20\n",
      "219/219 [==============================] - 9s 43ms/step - loss: 0.0094 - val_loss: 0.1606\n",
      "Epoch 17/20\n",
      "219/219 [==============================] - 9s 40ms/step - loss: 0.0092 - val_loss: 0.1602\n",
      "Epoch 18/20\n",
      "219/219 [==============================] - 9s 41ms/step - loss: 0.0093 - val_loss: 0.1606\n",
      "Epoch 19/20\n",
      "219/219 [==============================] - 9s 42ms/step - loss: 0.0089 - val_loss: 0.1642\n",
      "Epoch 20/20\n",
      "219/219 [==============================] - 9s 42ms/step - loss: 0.0090 - val_loss: 0.1640\n"
     ]
    }
   ],
   "source": [
    "model.compile(loss=\"mse\", optimizer=\"adam\")\n",
    "history = model.fit(X_train, Y_train, epochs=20,\n",
    "                    validation_data=(X_valid, Y_valid))"
   ]
  },
  {
   "cell_type": "code",
   "execution_count": 31,
   "id": "3f5d565c",
   "metadata": {},
   "outputs": [
    {
     "name": "stdout",
     "output_type": "stream",
     "text": [
      "1/1 [==============================] - 1s 1s/step\n"
     ]
    }
   ],
   "source": [
    "np.random.seed(43)\n",
    "\n",
    "series = generate_time_series(1, 50 + 10)\n",
    "X_new, Y_new = series[:, :50, :], series[:, -10:, :]\n",
    "Y_pred = model.predict(X_new)[..., np.newaxis]"
   ]
  },
  {
   "cell_type": "code",
   "execution_count": 32,
   "id": "4305af37",
   "metadata": {},
   "outputs": [
    {
     "data": {
      "image/png": "[encoded data removed]",
      "text/plain": [
       "<Figure size 432x288 with 1 Axes>"
      ]
     },
     "metadata": {
      "needs_background": "light"
     },
     "output_type": "display_data"
    }
   ],
   "source": [
    "plot_multiple_forecasts(X_new, Y_new, Y_pred)\n",
    "plt.show()"
   ]
  },
  {
   "cell_type": "code",
   "execution_count": 37,
   "id": "d46c9c16",
   "metadata": {},
   "outputs": [],
   "source": [
    "#We can turn this sequence to vector RNN into a seq to seq RNN.\n",
    "#each target will be a 10d vector\n",
    "\n",
    "n_steps = 50\n",
    "series = generate_time_series(10000, n_steps + 10)\n",
    "X_train = series[:7000, :n_steps]\n",
    "X_valid = series[7000:9000, :n_steps]\n",
    "X_test = series[9000:, :n_steps]\n",
    "Y = np.empty((10000, n_steps, 10))\n",
    "for step_ahead in range(1, 10 + 1):\n",
    "    Y[..., step_ahead - 1] = series[..., step_ahead:step_ahead + n_steps, 0]\n",
    "Y_train = Y[:7000]\n",
    "Y_valid = Y[7000:9000]\n",
    "Y_test = Y[9000:]\n",
    "\n",
    "#this is a causal model. The model only knows about past time steps."
   ]
  },
  {
   "cell_type": "code",
   "execution_count": 38,
   "id": "82414178",
   "metadata": {},
   "outputs": [],
   "source": [
    "model = keras.models.Sequential([\n",
    "    keras.layers.SimpleRNN(20, return_sequences=True, input_shape=[None, 1]),\n",
    "    keras.layers.SimpleRNN(20, return_sequences=True),\n",
    "    keras.layers.TimeDistributed(keras.layers.Dense(10))\n",
    "])"
   ]
  },
  {
   "cell_type": "code",
   "execution_count": 39,
   "id": "fd6708aa",
   "metadata": {},
   "outputs": [
    {
     "name": "stdout",
     "output_type": "stream",
     "text": [
      "Epoch 1/20\n",
      "219/219 [==============================] - 14s 47ms/step - loss: 0.0492 - last_time_step_mse: 0.0389 - val_loss: 0.0409 - val_last_time_step_mse: 0.0304\n",
      "Epoch 2/20\n",
      "219/219 [==============================] - 9s 42ms/step - loss: 0.0366 - last_time_step_mse: 0.0244 - val_loss: 0.0350 - val_last_time_step_mse: 0.0232\n",
      "Epoch 3/20\n",
      "219/219 [==============================] - 9s 43ms/step - loss: 0.0313 - last_time_step_mse: 0.0190 - val_loss: 0.0305 - val_last_time_step_mse: 0.0196\n",
      "Epoch 4/20\n",
      "219/219 [==============================] - 10s 44ms/step - loss: 0.0283 - last_time_step_mse: 0.0164 - val_loss: 0.0272 - val_last_time_step_mse: 0.0147\n",
      "Epoch 5/20\n",
      "219/219 [==============================] - 9s 42ms/step - loss: 0.0257 - last_time_step_mse: 0.0131 - val_loss: 0.0245 - val_last_time_step_mse: 0.0117\n",
      "Epoch 6/20\n",
      "219/219 [==============================] - 9s 42ms/step - loss: 0.0244 - last_time_step_mse: 0.0118 - val_loss: 0.0235 - val_last_time_step_mse: 0.0111\n",
      "Epoch 7/20\n",
      "219/219 [==============================] - 9s 43ms/step - loss: 0.0232 - last_time_step_mse: 0.0106 - val_loss: 0.0221 - val_last_time_step_mse: 0.0089\n",
      "Epoch 8/20\n",
      "219/219 [==============================] - 9s 43ms/step - loss: 0.0219 - last_time_step_mse: 0.0095 - val_loss: 0.0219 - val_last_time_step_mse: 0.0076\n",
      "Epoch 9/20\n",
      "219/219 [==============================] - 9s 43ms/step - loss: 0.0213 - last_time_step_mse: 0.0090 - val_loss: 0.0224 - val_last_time_step_mse: 0.0099\n",
      "Epoch 10/20\n",
      "219/219 [==============================] - 9s 43ms/step - loss: 0.0202 - last_time_step_mse: 0.0080 - val_loss: 0.0198 - val_last_time_step_mse: 0.0071\n",
      "Epoch 11/20\n",
      "219/219 [==============================] - 10s 44ms/step - loss: 0.0194 - last_time_step_mse: 0.0073 - val_loss: 0.0189 - val_last_time_step_mse: 0.0069\n",
      "Epoch 12/20\n",
      "219/219 [==============================] - 10s 43ms/step - loss: 0.0189 - last_time_step_mse: 0.0070 - val_loss: 0.0191 - val_last_time_step_mse: 0.0070\n",
      "Epoch 13/20\n",
      "219/219 [==============================] - 10s 44ms/step - loss: 0.0188 - last_time_step_mse: 0.0072 - val_loss: 0.0185 - val_last_time_step_mse: 0.0062\n",
      "Epoch 14/20\n",
      "219/219 [==============================] - 10s 43ms/step - loss: 0.0184 - last_time_step_mse: 0.0068 - val_loss: 0.0179 - val_last_time_step_mse: 0.0059\n",
      "Epoch 15/20\n",
      "219/219 [==============================] - 9s 43ms/step - loss: 0.0181 - last_time_step_mse: 0.0067 - val_loss: 0.0178 - val_last_time_step_mse: 0.0062\n",
      "Epoch 16/20\n",
      "219/219 [==============================] - 9s 43ms/step - loss: 0.0179 - last_time_step_mse: 0.0064 - val_loss: 0.0179 - val_last_time_step_mse: 0.0058\n",
      "Epoch 17/20\n",
      "219/219 [==============================] - 9s 43ms/step - loss: 0.0179 - last_time_step_mse: 0.0065 - val_loss: 0.0188 - val_last_time_step_mse: 0.0073\n",
      "Epoch 18/20\n",
      "219/219 [==============================] - 9s 43ms/step - loss: 0.0181 - last_time_step_mse: 0.0068 - val_loss: 0.0175 - val_last_time_step_mse: 0.0054\n",
      "Epoch 19/20\n",
      "219/219 [==============================] - 9s 43ms/step - loss: 0.0178 - last_time_step_mse: 0.0066 - val_loss: 0.0180 - val_last_time_step_mse: 0.0071\n",
      "Epoch 20/20\n",
      "219/219 [==============================] - 9s 43ms/step - loss: 0.0177 - last_time_step_mse: 0.0064 - val_loss: 0.0185 - val_last_time_step_mse: 0.0069\n"
     ]
    }
   ],
   "source": [
    "def last_time_step_mse(Y_true, Y_pred):\n",
    "    return keras.metrics.mean_squared_error(Y_true[:, -1], Y_pred[:, -1])\n",
    "\n",
    "model.compile(loss=\"mse\", optimizer=keras.optimizers.Adam(learning_rate=0.01), metrics=[last_time_step_mse])\n",
    "history = model.fit(X_train, Y_train, epochs=20,\n",
    "                    validation_data=(X_valid, Y_valid))"
   ]
  },
  {
   "cell_type": "code",
   "execution_count": 41,
   "id": "a1054174",
   "metadata": {},
   "outputs": [],
   "source": [
    "#Simple RNNs like this can be good for predicting short sequences. Longer forecasting can be inaccurate.\n",
    "#an unrolled RNN can be a very deep network, which means it may succumb to the unstable gradients issue.\n",
    "#good initialization, faster optimizers, dropout can help. but ReLU activation may not help.\n",
    "#non saturating activation will not help prevent explosion of gradients.\n",
    "#It is possible we would use some clipping techniques and monitor the gradients using tensorboard.\n",
    "\n",
    "#Layer Normalization is a new technique which may help alleviate the gradients issue.\n",
    "#here, create a LN cell from scratch\n",
    "\n",
    "class LNSimpleRNNCell(keras.layers.Layer):\n",
    "    def __init__(self, units, activation='tanh', **kwargs):\n",
    "        super().__init__(**kwargs)\n",
    "        self.state_size = units\n",
    "        self.output_size = units\n",
    "        self.simple_rnn_cell = keras.layers.SimpleRNNCell(units,\n",
    "                                                         activation=None)\n",
    "        self.layer_norm = keras.layers.LayerNormalization()\n",
    "        self.activation = keras.activations.get(activation)\n",
    "    def call(self, inputs, states):\n",
    "        outputs, new_states = self.simple_rnn_cell(inputs, states)\n",
    "        norm_outputs = self.activation(self.layer_norm(outputs))\n",
    "        return norm_outputs, [norm_outputs]"
   ]
  },
  {
   "cell_type": "code",
   "execution_count": 42,
   "id": "75c6e7b9",
   "metadata": {},
   "outputs": [],
   "source": [
    "#now we can use this cell\n",
    "\n",
    "model = keras.models.Sequential([\n",
    "    keras.layers.RNN(LNSimpleRNNCell(20), return_sequences=True,\n",
    "                    input_shape=[None, 1]),\n",
    "    keras.layers.RNN(LNSimpleRNNCell(20), return_sequences=True),\n",
    "    keras.layers.TimeDistributed(keras.layers.Dense(10))\n",
    "])"
   ]
  },
  {
   "cell_type": "code",
   "execution_count": 43,
   "id": "108a6b9c",
   "metadata": {},
   "outputs": [
    {
     "name": "stdout",
     "output_type": "stream",
     "text": [
      "Epoch 1/20\n",
      "219/219 [==============================] - 31s 106ms/step - loss: 0.1574 - last_time_step_mse: 0.1393 - val_loss: 0.0686 - val_last_time_step_mse: 0.0587\n",
      "Epoch 2/20\n",
      "219/219 [==============================] - 23s 103ms/step - loss: 0.0619 - last_time_step_mse: 0.0525 - val_loss: 0.0592 - val_last_time_step_mse: 0.0487\n",
      "Epoch 3/20\n",
      "219/219 [==============================] - 22s 102ms/step - loss: 0.0542 - last_time_step_mse: 0.0432 - val_loss: 0.0518 - val_last_time_step_mse: 0.0409\n",
      "Epoch 4/20\n",
      "219/219 [==============================] - 22s 103ms/step - loss: 0.0484 - last_time_step_mse: 0.0368 - val_loss: 0.0456 - val_last_time_step_mse: 0.0326\n",
      "Epoch 5/20\n",
      "219/219 [==============================] - 23s 103ms/step - loss: 0.0447 - last_time_step_mse: 0.0321 - val_loss: 0.0446 - val_last_time_step_mse: 0.0331\n",
      "Epoch 6/20\n",
      "219/219 [==============================] - 23s 103ms/step - loss: 0.0423 - last_time_step_mse: 0.0297 - val_loss: 0.0402 - val_last_time_step_mse: 0.0269\n",
      "Epoch 7/20\n",
      "219/219 [==============================] - 22s 103ms/step - loss: 0.0397 - last_time_step_mse: 0.0280 - val_loss: 0.0360 - val_last_time_step_mse: 0.0212\n",
      "Epoch 8/20\n",
      "219/219 [==============================] - 23s 103ms/step - loss: 0.0346 - last_time_step_mse: 0.0200 - val_loss: 0.0356 - val_last_time_step_mse: 0.0210\n",
      "Epoch 9/20\n",
      "219/219 [==============================] - 23s 103ms/step - loss: 0.0345 - last_time_step_mse: 0.0204 - val_loss: 0.0334 - val_last_time_step_mse: 0.0169\n",
      "Epoch 10/20\n",
      "219/219 [==============================] - 23s 104ms/step - loss: 0.0338 - last_time_step_mse: 0.0199 - val_loss: 0.0314 - val_last_time_step_mse: 0.0160\n",
      "Epoch 11/20\n",
      "219/219 [==============================] - 23s 103ms/step - loss: 0.0303 - last_time_step_mse: 0.0153 - val_loss: 0.0302 - val_last_time_step_mse: 0.0146\n",
      "Epoch 12/20\n",
      "219/219 [==============================] - 22s 102ms/step - loss: 0.0296 - last_time_step_mse: 0.0144 - val_loss: 0.0300 - val_last_time_step_mse: 0.0133\n",
      "Epoch 13/20\n",
      "219/219 [==============================] - 22s 102ms/step - loss: 0.0288 - last_time_step_mse: 0.0136 - val_loss: 0.0288 - val_last_time_step_mse: 0.0133\n",
      "Epoch 14/20\n",
      "219/219 [==============================] - 22s 102ms/step - loss: 0.0284 - last_time_step_mse: 0.0134 - val_loss: 0.0309 - val_last_time_step_mse: 0.0159\n",
      "Epoch 15/20\n",
      "219/219 [==============================] - 22s 100ms/step - loss: 0.0287 - last_time_step_mse: 0.0135 - val_loss: 0.0306 - val_last_time_step_mse: 0.0142\n",
      "Epoch 16/20\n",
      "219/219 [==============================] - 22s 99ms/step - loss: 0.0287 - last_time_step_mse: 0.0132 - val_loss: 0.0280 - val_last_time_step_mse: 0.0119\n",
      "Epoch 17/20\n",
      "219/219 [==============================] - 21s 95ms/step - loss: 0.0273 - last_time_step_mse: 0.0124 - val_loss: 0.0276 - val_last_time_step_mse: 0.0117\n",
      "Epoch 18/20\n",
      "219/219 [==============================] - 22s 100ms/step - loss: 0.0269 - last_time_step_mse: 0.0120 - val_loss: 0.0268 - val_last_time_step_mse: 0.0114\n",
      "Epoch 19/20\n",
      "219/219 [==============================] - 22s 102ms/step - loss: 0.0267 - last_time_step_mse: 0.0118 - val_loss: 0.0264 - val_last_time_step_mse: 0.0109\n",
      "Epoch 20/20\n",
      "219/219 [==============================] - 22s 101ms/step - loss: 0.0263 - last_time_step_mse: 0.0117 - val_loss: 0.0285 - val_last_time_step_mse: 0.0137\n"
     ]
    }
   ],
   "source": [
    "model.compile(loss=\"mse\", optimizer=\"adam\", metrics=[last_time_step_mse])\n",
    "history = model.fit(X_train, Y_train, epochs=20,\n",
    "                    validation_data=(X_valid, Y_valid))"
   ]
  },
  {
   "cell_type": "code",
   "execution_count": 44,
   "id": "c6b50100",
   "metadata": {},
   "outputs": [],
   "source": [
    "#When traversing an RNN, information is lost at each step. In order to prevent this, longer term memory cells are used.\n",
    "#Take a look at LSTM\n",
    "#It will converge faster and perform better than the SimpleRNN cell \n",
    "\n",
    "model = keras.models.Sequential([\n",
    "    keras.layers.LSTM(20, return_sequences=True, input_shape=[None, 1]),\n",
    "    keras.layers.LSTM(20, return_sequences=True),\n",
    "    keras.layers.TimeDistributed(keras.layers.Dense(10))\n",
    "])"
   ]
  },
  {
   "cell_type": "code",
   "execution_count": 45,
   "id": "0a620c50",
   "metadata": {},
   "outputs": [
    {
     "name": "stdout",
     "output_type": "stream",
     "text": [
      "Epoch 1/20\n",
      "219/219 [==============================] - 34s 105ms/step - loss: 0.0767 - last_time_step_mse: 0.0610 - val_loss: 0.0527 - val_last_time_step_mse: 0.0290\n",
      "Epoch 2/20\n",
      "219/219 [==============================] - 21s 96ms/step - loss: 0.0462 - last_time_step_mse: 0.0232 - val_loss: 0.0419 - val_last_time_step_mse: 0.0177\n",
      "Epoch 3/20\n",
      "219/219 [==============================] - 21s 97ms/step - loss: 0.0386 - last_time_step_mse: 0.0164 - val_loss: 0.0369 - val_last_time_step_mse: 0.0140\n",
      "Epoch 4/20\n",
      "219/219 [==============================] - 22s 99ms/step - loss: 0.0342 - last_time_step_mse: 0.0134 - val_loss: 0.0333 - val_last_time_step_mse: 0.0121\n",
      "Epoch 5/20\n",
      "219/219 [==============================] - 22s 99ms/step - loss: 0.0318 - last_time_step_mse: 0.0126 - val_loss: 0.0314 - val_last_time_step_mse: 0.0124\n",
      "Epoch 6/20\n",
      "219/219 [==============================] - 20s 91ms/step - loss: 0.0304 - last_time_step_mse: 0.0120 - val_loss: 0.0301 - val_last_time_step_mse: 0.0117\n",
      "Epoch 7/20\n",
      "219/219 [==============================] - 17s 76ms/step - loss: 0.0293 - last_time_step_mse: 0.0118 - val_loss: 0.0295 - val_last_time_step_mse: 0.0115\n",
      "Epoch 8/20\n",
      "219/219 [==============================] - 21s 94ms/step - loss: 0.0286 - last_time_step_mse: 0.0115 - val_loss: 0.0286 - val_last_time_step_mse: 0.0112\n",
      "Epoch 9/20\n",
      "219/219 [==============================] - 21s 95ms/step - loss: 0.0280 - last_time_step_mse: 0.0111 - val_loss: 0.0282 - val_last_time_step_mse: 0.0116\n",
      "Epoch 10/20\n",
      "219/219 [==============================] - 21s 94ms/step - loss: 0.0273 - last_time_step_mse: 0.0108 - val_loss: 0.0274 - val_last_time_step_mse: 0.0104\n",
      "Epoch 11/20\n",
      "219/219 [==============================] - 21s 96ms/step - loss: 0.0269 - last_time_step_mse: 0.0108 - val_loss: 0.0270 - val_last_time_step_mse: 0.0102\n",
      "Epoch 12/20\n",
      "219/219 [==============================] - 19s 87ms/step - loss: 0.0264 - last_time_step_mse: 0.0104 - val_loss: 0.0269 - val_last_time_step_mse: 0.0107\n",
      "Epoch 13/20\n",
      "219/219 [==============================] - 22s 100ms/step - loss: 0.0260 - last_time_step_mse: 0.0101 - val_loss: 0.0259 - val_last_time_step_mse: 0.0096\n",
      "Epoch 14/20\n",
      "219/219 [==============================] - 22s 99ms/step - loss: 0.0255 - last_time_step_mse: 0.0098 - val_loss: 0.0258 - val_last_time_step_mse: 0.0097\n",
      "Epoch 15/20\n",
      "219/219 [==============================] - 22s 100ms/step - loss: 0.0252 - last_time_step_mse: 0.0097 - val_loss: 0.0256 - val_last_time_step_mse: 0.0095\n",
      "Epoch 16/20\n",
      "219/219 [==============================] - 22s 100ms/step - loss: 0.0249 - last_time_step_mse: 0.0096 - val_loss: 0.0248 - val_last_time_step_mse: 0.0091\n",
      "Epoch 17/20\n",
      "219/219 [==============================] - 22s 100ms/step - loss: 0.0245 - last_time_step_mse: 0.0092 - val_loss: 0.0244 - val_last_time_step_mse: 0.0086\n",
      "Epoch 18/20\n",
      "219/219 [==============================] - 21s 98ms/step - loss: 0.0242 - last_time_step_mse: 0.0091 - val_loss: 0.0245 - val_last_time_step_mse: 0.0094\n",
      "Epoch 19/20\n",
      "219/219 [==============================] - 22s 100ms/step - loss: 0.0239 - last_time_step_mse: 0.0089 - val_loss: 0.0239 - val_last_time_step_mse: 0.0082\n",
      "Epoch 20/20\n",
      "219/219 [==============================] - 20s 93ms/step - loss: 0.0236 - last_time_step_mse: 0.0088 - val_loss: 0.0237 - val_last_time_step_mse: 0.0086\n"
     ]
    }
   ],
   "source": [
    "model.compile(loss=\"mse\", optimizer=\"adam\", metrics=[last_time_step_mse])\n",
    "history = model.fit(X_train, Y_train, epochs=20,\n",
    "                    validation_data=(X_valid, Y_valid))"
   ]
  },
  {
   "cell_type": "code",
   "execution_count": 46,
   "id": "d0718625",
   "metadata": {},
   "outputs": [
    {
     "name": "stdout",
     "output_type": "stream",
     "text": [
      "63/63 [==============================] - 2s 24ms/step - loss: 0.0237 - last_time_step_mse: 0.0086\n"
     ]
    },
    {
     "data": {
      "text/plain": [
       "[0.023749062791466713, 0.00859263725578785]"
      ]
     },
     "execution_count": 46,
     "metadata": {},
     "output_type": "execute_result"
    }
   ],
   "source": [
    "model.evaluate(X_valid, Y_valid)"
   ]
  },
  {
   "cell_type": "code",
   "execution_count": 47,
   "id": "194066b0",
   "metadata": {},
   "outputs": [
    {
     "data": {
      "image/png": "[encoded data removed]",
      "text/plain": [
       "<Figure size 432x288 with 1 Axes>"
      ]
     },
     "metadata": {
      "needs_background": "light"
     },
     "output_type": "display_data"
    }
   ],
   "source": [
    "plot_learning_curves(history.history[\"loss\"], history.history[\"val_loss\"])\n",
    "plt.show()"
   ]
  },
  {
   "cell_type": "code",
   "execution_count": 48,
   "id": "3a0f26fe",
   "metadata": {},
   "outputs": [
    {
     "name": "stdout",
     "output_type": "stream",
     "text": [
      "1/1 [==============================] - 2s 2s/step\n"
     ]
    },
    {
     "data": {
      "image/png": "[encoded data removed]",
      "text/plain": [
       "<Figure size 432x288 with 1 Axes>"
      ]
     },
     "metadata": {
      "needs_background": "light"
     },
     "output_type": "display_data"
    }
   ],
   "source": [
    "series = generate_time_series(1, 50 + 10)\n",
    "X_new, Y_new = series[:, :50, :], series[:, 50:, :]\n",
    "Y_pred = model.predict(X_new)[:, -1][..., np.newaxis]\n",
    "\n",
    "plot_multiple_forecasts(X_new, Y_new, Y_pred)\n",
    "plt.show()"
   ]
  },
  {
   "cell_type": "code",
   "execution_count": 50,
   "id": "a2f4d9ff",
   "metadata": {},
   "outputs": [
    {
     "name": "stdout",
     "output_type": "stream",
     "text": [
      "Epoch 1/20\n",
      "219/219 [==============================] - 15s 42ms/step - loss: 0.0711 - last_time_step_mse: 0.0638 - val_loss: 0.0469 - val_last_time_step_mse: 0.0397\n",
      "Epoch 2/20\n",
      "219/219 [==============================] - 8s 35ms/step - loss: 0.0385 - last_time_step_mse: 0.0313 - val_loss: 0.0357 - val_last_time_step_mse: 0.0289\n",
      "Epoch 3/20\n",
      "219/219 [==============================] - 8s 35ms/step - loss: 0.0319 - last_time_step_mse: 0.0235 - val_loss: 0.0308 - val_last_time_step_mse: 0.0208\n",
      "Epoch 4/20\n",
      "219/219 [==============================] - 8s 35ms/step - loss: 0.0280 - last_time_step_mse: 0.0180 - val_loss: 0.0270 - val_last_time_step_mse: 0.0158\n",
      "Epoch 5/20\n",
      "219/219 [==============================] - 8s 35ms/step - loss: 0.0255 - last_time_step_mse: 0.0146 - val_loss: 0.0249 - val_last_time_step_mse: 0.0132\n",
      "Epoch 6/20\n",
      "219/219 [==============================] - 8s 35ms/step - loss: 0.0239 - last_time_step_mse: 0.0128 - val_loss: 0.0237 - val_last_time_step_mse: 0.0120\n",
      "Epoch 7/20\n",
      "219/219 [==============================] - 8s 35ms/step - loss: 0.0229 - last_time_step_mse: 0.0118 - val_loss: 0.0230 - val_last_time_step_mse: 0.0114\n",
      "Epoch 8/20\n",
      "219/219 [==============================] - 8s 37ms/step - loss: 0.0222 - last_time_step_mse: 0.0112 - val_loss: 0.0225 - val_last_time_step_mse: 0.0107\n",
      "Epoch 9/20\n",
      "219/219 [==============================] - 8s 35ms/step - loss: 0.0218 - last_time_step_mse: 0.0107 - val_loss: 0.0221 - val_last_time_step_mse: 0.0107\n",
      "Epoch 10/20\n",
      "219/219 [==============================] - 8s 35ms/step - loss: 0.0214 - last_time_step_mse: 0.0106 - val_loss: 0.0216 - val_last_time_step_mse: 0.0104\n",
      "Epoch 11/20\n",
      "219/219 [==============================] - 8s 35ms/step - loss: 0.0210 - last_time_step_mse: 0.0102 - val_loss: 0.0211 - val_last_time_step_mse: 0.0096\n",
      "Epoch 12/20\n",
      "219/219 [==============================] - 8s 35ms/step - loss: 0.0207 - last_time_step_mse: 0.0101 - val_loss: 0.0209 - val_last_time_step_mse: 0.0098\n",
      "Epoch 13/20\n",
      "219/219 [==============================] - 8s 35ms/step - loss: 0.0204 - last_time_step_mse: 0.0099 - val_loss: 0.0210 - val_last_time_step_mse: 0.0096\n",
      "Epoch 14/20\n",
      "219/219 [==============================] - 8s 35ms/step - loss: 0.0202 - last_time_step_mse: 0.0097 - val_loss: 0.0206 - val_last_time_step_mse: 0.0095\n",
      "Epoch 15/20\n",
      "219/219 [==============================] - 8s 35ms/step - loss: 0.0200 - last_time_step_mse: 0.0096 - val_loss: 0.0201 - val_last_time_step_mse: 0.0091\n",
      "Epoch 16/20\n",
      "219/219 [==============================] - 8s 35ms/step - loss: 0.0198 - last_time_step_mse: 0.0095 - val_loss: 0.0199 - val_last_time_step_mse: 0.0092\n",
      "Epoch 17/20\n",
      "219/219 [==============================] - 8s 35ms/step - loss: 0.0195 - last_time_step_mse: 0.0093 - val_loss: 0.0199 - val_last_time_step_mse: 0.0092\n",
      "Epoch 18/20\n",
      "219/219 [==============================] - 8s 35ms/step - loss: 0.0192 - last_time_step_mse: 0.0091 - val_loss: 0.0194 - val_last_time_step_mse: 0.0088\n",
      "Epoch 19/20\n",
      "219/219 [==============================] - 8s 35ms/step - loss: 0.0189 - last_time_step_mse: 0.0088 - val_loss: 0.0191 - val_last_time_step_mse: 0.0085\n",
      "Epoch 20/20\n",
      "219/219 [==============================] - 8s 35ms/step - loss: 0.0186 - last_time_step_mse: 0.0086 - val_loss: 0.0188 - val_last_time_step_mse: 0.0082\n"
     ]
    }
   ],
   "source": [
    "#GRU cell perform as well as LSTM, but are simpler.\n",
    "#GRU and LSTM still have difficulty performing in sequences of 100 or more time steps.\n",
    "#Shortening the input sequences using 1d conv layers can help.\n",
    "\n",
    "model = keras.models.Sequential([\n",
    "    keras.layers.Conv1D(filters=20, kernel_size=4, strides=2, padding='valid',\n",
    "                       input_shape=[None, 1]),\n",
    "    keras.layers.GRU(20, return_sequences=True),\n",
    "    keras.layers.GRU(20, return_sequences=True),\n",
    "    keras.layers.TimeDistributed(keras.layers.Dense(10))\n",
    "])\n",
    "\n",
    "model.compile(loss='mse', optimizer='adam', metrics=[last_time_step_mse])\n",
    "history = model.fit(X_train, Y_train[:, 3::2], epochs=20,\n",
    "                   validation_data=(X_valid, Y_valid[:, 3::2]))"
   ]
  },
  {
   "cell_type": "code",
   "execution_count": 52,
   "id": "f6e28fad",
   "metadata": {},
   "outputs": [
    {
     "name": "stdout",
     "output_type": "stream",
     "text": [
      "Epoch 1/20\n",
      "219/219 [==============================] - 6s 19ms/step - loss: 0.0684 - last_time_step_mse: 0.0563 - val_loss: 0.0356 - val_last_time_step_mse: 0.0212\n",
      "Epoch 2/20\n",
      "219/219 [==============================] - 3s 16ms/step - loss: 0.0321 - last_time_step_mse: 0.0186 - val_loss: 0.0301 - val_last_time_step_mse: 0.0166\n",
      "Epoch 3/20\n",
      "219/219 [==============================] - 3s 16ms/step - loss: 0.0287 - last_time_step_mse: 0.0157 - val_loss: 0.0279 - val_last_time_step_mse: 0.0148\n",
      "Epoch 4/20\n",
      "219/219 [==============================] - 3s 16ms/step - loss: 0.0270 - last_time_step_mse: 0.0143 - val_loss: 0.0268 - val_last_time_step_mse: 0.0138\n",
      "Epoch 5/20\n",
      "219/219 [==============================] - 3s 16ms/step - loss: 0.0259 - last_time_step_mse: 0.0133 - val_loss: 0.0258 - val_last_time_step_mse: 0.0132\n",
      "Epoch 6/20\n",
      "219/219 [==============================] - 3s 16ms/step - loss: 0.0251 - last_time_step_mse: 0.0126 - val_loss: 0.0248 - val_last_time_step_mse: 0.0117\n",
      "Epoch 7/20\n",
      "219/219 [==============================] - 4s 16ms/step - loss: 0.0242 - last_time_step_mse: 0.0118 - val_loss: 0.0239 - val_last_time_step_mse: 0.0112\n",
      "Epoch 8/20\n",
      "219/219 [==============================] - 3s 16ms/step - loss: 0.0236 - last_time_step_mse: 0.0113 - val_loss: 0.0235 - val_last_time_step_mse: 0.0109\n",
      "Epoch 9/20\n",
      "219/219 [==============================] - 4s 16ms/step - loss: 0.0229 - last_time_step_mse: 0.0106 - val_loss: 0.0230 - val_last_time_step_mse: 0.0106\n",
      "Epoch 10/20\n",
      "219/219 [==============================] - 3s 16ms/step - loss: 0.0225 - last_time_step_mse: 0.0104 - val_loss: 0.0229 - val_last_time_step_mse: 0.0103\n",
      "Epoch 11/20\n",
      "219/219 [==============================] - 4s 16ms/step - loss: 0.0222 - last_time_step_mse: 0.0101 - val_loss: 0.0228 - val_last_time_step_mse: 0.0109\n",
      "Epoch 12/20\n",
      "219/219 [==============================] - 4s 16ms/step - loss: 0.0218 - last_time_step_mse: 0.0097 - val_loss: 0.0219 - val_last_time_step_mse: 0.0094\n",
      "Epoch 13/20\n",
      "219/219 [==============================] - 4s 16ms/step - loss: 0.0217 - last_time_step_mse: 0.0097 - val_loss: 0.0219 - val_last_time_step_mse: 0.0097\n",
      "Epoch 14/20\n",
      "219/219 [==============================] - 4s 16ms/step - loss: 0.0213 - last_time_step_mse: 0.0093 - val_loss: 0.0216 - val_last_time_step_mse: 0.0091\n",
      "Epoch 15/20\n",
      "219/219 [==============================] - 3s 16ms/step - loss: 0.0211 - last_time_step_mse: 0.0091 - val_loss: 0.0212 - val_last_time_step_mse: 0.0089\n",
      "Epoch 16/20\n",
      "219/219 [==============================] - 4s 16ms/step - loss: 0.0209 - last_time_step_mse: 0.0089 - val_loss: 0.0211 - val_last_time_step_mse: 0.0090\n",
      "Epoch 17/20\n",
      "219/219 [==============================] - 4s 16ms/step - loss: 0.0206 - last_time_step_mse: 0.0087 - val_loss: 0.0213 - val_last_time_step_mse: 0.0092\n",
      "Epoch 18/20\n",
      "219/219 [==============================] - 4s 16ms/step - loss: 0.0205 - last_time_step_mse: 0.0085 - val_loss: 0.0205 - val_last_time_step_mse: 0.0081\n",
      "Epoch 19/20\n",
      "219/219 [==============================] - 4s 16ms/step - loss: 0.0203 - last_time_step_mse: 0.0084 - val_loss: 0.0204 - val_last_time_step_mse: 0.0081\n",
      "Epoch 20/20\n",
      "219/219 [==============================] - 4s 16ms/step - loss: 0.0201 - last_time_step_mse: 0.0082 - val_loss: 0.0202 - val_last_time_step_mse: 0.0079\n"
     ]
    }
   ],
   "source": [
    "#As a final example, we will compile a WaveNet model. In WaveNet, early layers learn short term patterns\n",
    "#higher layers learn longer term patterns\n",
    "\n",
    "model = keras.models.Sequential()\n",
    "model.add(keras.layers.InputLayer(input_shape=[None,1]))\n",
    "for rate in (1,2,4,8) * 2:\n",
    "    model.add(keras.layers.Conv1D(filters=20, kernel_size=2, padding='causal',\n",
    "                                 activation='relu', dilation_rate=rate))\n",
    "model.add(keras.layers.Conv1D(filters=10, kernel_size=1))\n",
    "model.compile(loss='mse', optimizer='adam', metrics=[last_time_step_mse])\n",
    "history = model.fit(X_train, Y_train, epochs=20,\n",
    "                   validation_data=(X_valid, Y_valid))\n",
    "    "
   ]
  }
 ],
 "metadata": {
  "kernelspec": {
   "display_name": "Python 3 (ipykernel)",
   "language": "python",
   "name": "python3"
  },
  "language_info": {
   "codemirror_mode": {
    "name": "ipython",
    "version": 3
   },
   "file_extension": ".py",
   "mimetype": "text/x-python",
   "name": "python",
   "nbconvert_exporter": "python",
   "pygments_lexer": "ipython3",
   "version": "3.10.5"
  }
 },
 "nbformat": 4,
 "nbformat_minor": 5
}
