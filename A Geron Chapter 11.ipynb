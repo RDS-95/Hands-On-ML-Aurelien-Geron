{
 "cells": [
  {
   "cell_type": "markdown",
   "id": "6667a4af",
   "metadata": {},
   "source": [
    "# Training Deep Neural Networks"
   ]
  },
  {
   "cell_type": "code",
   "execution_count": 5,
   "id": "0a588ffd",
   "metadata": {},
   "outputs": [
    {
     "data": {
      "image/png": "[encoded data removed]",
      "text/plain": [
       "<Figure size 432x288 with 1 Axes>"
      ]
     },
     "metadata": {
      "needs_background": "light"
     },
     "output_type": "display_data"
    }
   ],
   "source": [
    "#complex problems such as detecting hundreds of object types may require DNN to be trained.\n",
    "#issues we could encounter:\n",
    "    #-vanishing gradients/exploding gradients, \n",
    "    #-not enough training data\n",
    "    #-extemely slow training\n",
    "    #-severe risk of overfitting\n",
    "\n",
    "#Start with addressing the gradients issue.\n",
    "\n",
    "#vanishing gradients is when the gradient descent update leaves the lower layers connection weights unchanged\n",
    "#never converges to a solution\n",
    "#opposite is exploding gradients, where layers get extremely large weight updates.\n",
    "#generally, NNs experience unstable gradients with diff layers learning at diff speeds.\n",
    "\n",
    "#A key way around this issue is down to the initialization of the network.\n",
    "#Using Glorot/LeCun initialization. Keras uses Glorot initialization by default.\n",
    "\n",
    "#Can change to He initialization like so:\n",
    "\n",
    "    #keras.layers.Dense(10, activation='relu', kernel_initializer='he_normal')\n",
    "\n",
    "#He initialization with uniform distibution, but based on FANavg instead of FANin\n",
    "\n",
    "    #he_avg_init = keras.initializers.VarianceScaling(scale=2., mode='fan_avg', distribution='uniform')\n",
    "    #keras.layers.Dense(10, activation='relu', kernel_initializer='he_avg_init')\n",
    "\n",
    "#Choice of activation functions v important. ReLU does not saturate positive values and is fast to compute.\n",
    "#Some downsides include dying ReLUs where some neurons stop outputting anything but 0\n",
    "#This can be solved with 'leaky ReLU'. LeakyRELU(z) = max(az,z). This generally performs better, for a given leak a\n",
    "\n",
    "import matplotlib.pyplot as plt\n",
    "import numpy as np\n",
    "\n",
    "z = np.linspace(-5, 5, 200)\n",
    "\n",
    "def leaky_relu(z, alpha=0.01):\n",
    "    return np.maximum(alpha*z, z)\n",
    "\n",
    "plt.plot(z, leaky_relu(z, 0.05), \"b-\", linewidth=2)\n",
    "plt.plot([-5, 5], [0, 0], 'k-')\n",
    "plt.plot([0, 0], [-0.5, 4.2], 'k-')\n",
    "plt.grid(True)\n",
    "props = dict(facecolor='black', shrink=0.1)\n",
    "plt.annotate('Leak', xytext=(-3.5, 0.5), xy=(-5, -0.2), arrowprops=props, fontsize=14, ha=\"center\")\n",
    "plt.title(\"Leaky ReLU activation function\", fontsize=14)\n",
    "plt.axis([-5, 5, -0.5, 4.2])\n",
    "\n",
    "plt.show()"
   ]
  },
  {
   "cell_type": "code",
   "execution_count": 6,
   "id": "50f778f7",
   "metadata": {},
   "outputs": [
    {
     "data": {
      "image/png": "[encoded data removed]",
      "text/plain": [
       "<Figure size 432x288 with 1 Axes>"
      ]
     },
     "metadata": {
      "needs_background": "light"
     },
     "output_type": "display_data"
    }
   ],
   "source": [
    "#Another alternative is ELU, Exponential LU.\n",
    "#main drawback of this is that it is slower to compute than ReLU\n",
    "\n",
    "def elu(z, alpha=1):\n",
    "    return np.where(z < 0, alpha * (np.exp(z) - 1), z)\n",
    "\n",
    "plt.plot(z, elu(z), \"b-\", linewidth=2)\n",
    "plt.plot([-5, 5], [0, 0], 'k-')\n",
    "plt.plot([-5, 5], [-1, -1], 'k--')\n",
    "plt.plot([0, 0], [-2.2, 3.2], 'k-')\n",
    "plt.grid(True)\n",
    "plt.title(r\"ELU activation function ($\\alpha=1$)\", fontsize=14)\n",
    "plt.axis([-5, 5, -2.2, 3.2])\n",
    "\n",
    "plt.show()"
   ]
  },
  {
   "cell_type": "code",
   "execution_count": 7,
   "id": "24cd3ca3",
   "metadata": {},
   "outputs": [],
   "source": [
    "#Scaled ELU often significantly outperforms other activation functions. There are conditions for its use:\n",
    "#input features must be standardized\n",
    "#hidden layers weights must be initialized with LeCun\n",
    "#network architecture must be sequential.\n",
    "\n",
    "#With these conditions, SELU will self-normalize\n",
    "\n",
    "#To use leaky relu, create a leaky relu layer after the layer you apply it to.\n",
    "\n",
    "    #keras.layers.Dense(10, kernel_initializer='he_normal')\n",
    "    #keras.layers.LeakyReLU(alpha=0.2)\n",
    "    \n",
    "#for selu:\n",
    "\n",
    "    #keras.layers.Dense(10, activation='selu', kernel_initializer='lecun_normal')"
   ]
  },
  {
   "cell_type": "code",
   "execution_count": 9,
   "id": "473f97f2",
   "metadata": {},
   "outputs": [],
   "source": [
    "#using He initialization with ELU doesn't guarantee that gradients issues won't reappear during training\n",
    "#Can use Batch normalization to alleviate this.\n",
    "\n",
    "#add an operation in the model just before or after activation function which zero centers and normalizes each input\n",
    "#then scales and shifts the result\n",
    "\n",
    "#in summary, standardizes inputs, rescales, then offsets.\n",
    "#improves performance greatly on image classifiers for ex.\n",
    "#implementation looks like:\n",
    "\n",
    "import tensorflow as tf\n",
    "from tensorflow import keras\n",
    "\n",
    "model = keras.models.Sequential([\n",
    "    keras.layers.Flatten(input_shape=[28,28]),\n",
    "    keras.layers.BatchNormalization(),\n",
    "    keras.layers.Dense(300, activation='elu', kernel_initializer='he_normal'),\n",
    "    keras.layers.BatchNormalization(),\n",
    "    keras.layers.Dense(100, activation='elu', kernel_initializer='he_normal'),\n",
    "    keras.layers.BatchNormalization(),\n",
    "    keras.layers.Dense(10, activation='softmax')\n",
    "])"
   ]
  },
  {
   "cell_type": "code",
   "execution_count": 10,
   "id": "66f8151a",
   "metadata": {},
   "outputs": [
    {
     "name": "stdout",
     "output_type": "stream",
     "text": [
      "Model: \"sequential\"\n",
      "_________________________________________________________________\n",
      " Layer (type)                Output Shape              Param #   \n",
      "=================================================================\n",
      " flatten (Flatten)           (None, 784)               0         \n",
      "                                                                 \n",
      " batch_normalization (BatchN  (None, 784)              3136      \n",
      " ormalization)                                                   \n",
      "                                                                 \n",
      " dense (Dense)               (None, 300)               235500    \n",
      "                                                                 \n",
      " batch_normalization_1 (Batc  (None, 300)              1200      \n",
      " hNormalization)                                                 \n",
      "                                                                 \n",
      " dense_1 (Dense)             (None, 100)               30100     \n",
      "                                                                 \n",
      " batch_normalization_2 (Batc  (None, 100)              400       \n",
      " hNormalization)                                                 \n",
      "                                                                 \n",
      " dense_2 (Dense)             (None, 10)                1010      \n",
      "                                                                 \n",
      "=================================================================\n",
      "Total params: 271,346\n",
      "Trainable params: 268,978\n",
      "Non-trainable params: 2,368\n",
      "_________________________________________________________________\n"
     ]
    }
   ],
   "source": [
    "model.summary()"
   ]
  },
  {
   "cell_type": "code",
   "execution_count": 11,
   "id": "a65c2c4c",
   "metadata": {},
   "outputs": [
    {
     "data": {
      "text/plain": [
       "[('batch_normalization/gamma:0', True),\n",
       " ('batch_normalization/beta:0', True),\n",
       " ('batch_normalization/moving_mean:0', False),\n",
       " ('batch_normalization/moving_variance:0', False)]"
      ]
     },
     "execution_count": 11,
     "metadata": {},
     "output_type": "execute_result"
    }
   ],
   "source": [
    "#check params of first BN layer\n",
    "\n",
    "[(var.name, var.trainable) for var in model.layers[1].variables]"
   ]
  },
  {
   "cell_type": "code",
   "execution_count": 12,
   "id": "2aec3998",
   "metadata": {},
   "outputs": [],
   "source": [
    "#can add the BN layers before in sequence as well:\n",
    "\n",
    "model = keras.models.Sequential([\n",
    "    keras.layers.Flatten(input_shape=[28, 28]),\n",
    "    keras.layers.BatchNormalization(),\n",
    "    keras.layers.Dense(300, use_bias=False),\n",
    "    keras.layers.BatchNormalization(),\n",
    "    keras.layers.Activation(\"relu\"),\n",
    "    keras.layers.Dense(100, use_bias=False),\n",
    "    keras.layers.BatchNormalization(),\n",
    "    keras.layers.Activation(\"relu\"),\n",
    "    keras.layers.Dense(10, activation=\"softmax\")\n",
    "])"
   ]
  },
  {
   "cell_type": "code",
   "execution_count": 13,
   "id": "51a4e99f",
   "metadata": {},
   "outputs": [],
   "source": [
    "#another technique to mitigate exploding gradients is to clip them during backpropagation\n",
    "\n",
    "optimizer = keras.optimizers.SGD(clipvalue=1.0)\n",
    "\n",
    "#model.compile(loss='mse', optimizer=optimizer)\n",
    "\n",
    "#this optimizaer clips every component of the gradient vector to a value between 1 and -1"
   ]
  },
  {
   "cell_type": "code",
   "execution_count": 14,
   "id": "8be5fcd3",
   "metadata": {},
   "outputs": [],
   "source": [
    "#generally, we don't want to build a DNN from scratch, try to find existing NN\n",
    "#This is transfer learning. Eg.\n",
    "\n",
    "(X_train_full, y_train_full), (X_test, y_test) = keras.datasets.fashion_mnist.load_data()\n",
    "X_train_full = X_train_full / 255.0\n",
    "X_test = X_test / 255.0\n",
    "X_valid, X_train = X_train_full[:5000], X_train_full[5000:]\n",
    "y_valid, y_train = y_train_full[:5000], y_train_full[5000:]\n",
    "\n",
    "def split_dataset(X, y):\n",
    "    y_5_or_6 = (y == 5) | (y == 6) # sandals or shirts\n",
    "    y_A = y[~y_5_or_6]\n",
    "    y_A[y_A > 6] -= 2 # class indices 7, 8, 9 should be moved to 5, 6, 7\n",
    "    y_B = (y[y_5_or_6] == 6).astype(np.float32) # binary classification task: is it a shirt (class 6)?\n",
    "    return ((X[~y_5_or_6], y_A),\n",
    "            (X[y_5_or_6], y_B))\n",
    "\n",
    "(X_train_A, y_train_A), (X_train_B, y_train_B) = split_dataset(X_train, y_train)\n",
    "(X_valid_A, y_valid_A), (X_valid_B, y_valid_B) = split_dataset(X_valid, y_valid)\n",
    "(X_test_A, y_test_A), (X_test_B, y_test_B) = split_dataset(X_test, y_test)\n",
    "X_train_B = X_train_B[:200]\n",
    "y_train_B = y_train_B[:200]"
   ]
  },
  {
   "cell_type": "code",
   "execution_count": 15,
   "id": "4b076928",
   "metadata": {},
   "outputs": [
    {
     "data": {
      "text/plain": [
       "(43986, 28, 28)"
      ]
     },
     "execution_count": 15,
     "metadata": {},
     "output_type": "execute_result"
    }
   ],
   "source": [
    "X_train_A.shape"
   ]
  },
  {
   "cell_type": "code",
   "execution_count": 16,
   "id": "b37c3874",
   "metadata": {},
   "outputs": [
    {
     "data": {
      "text/plain": [
       "(200, 28, 28)"
      ]
     },
     "execution_count": 16,
     "metadata": {},
     "output_type": "execute_result"
    }
   ],
   "source": [
    "X_train_B.shape"
   ]
  },
  {
   "cell_type": "code",
   "execution_count": 17,
   "id": "01a0ab1f",
   "metadata": {},
   "outputs": [
    {
     "data": {
      "text/plain": [
       "array([4, 0, 5, 7, 7, 7, 4, 4, 3, 4, 0, 1, 6, 3, 4, 3, 2, 6, 5, 3, 4, 5,\n",
       "       1, 3, 4, 2, 0, 6, 7, 1], dtype=uint8)"
      ]
     },
     "execution_count": 17,
     "metadata": {},
     "output_type": "execute_result"
    }
   ],
   "source": [
    "y_train_A[:30]"
   ]
  },
  {
   "cell_type": "code",
   "execution_count": 18,
   "id": "31b54336",
   "metadata": {},
   "outputs": [
    {
     "data": {
      "text/plain": [
       "array([1., 1., 0., 0., 0., 0., 1., 1., 1., 0., 0., 1., 1., 0., 0., 0., 0.,\n",
       "       0., 0., 1., 1., 0., 0., 1., 1., 0., 1., 1., 1., 1.], dtype=float32)"
      ]
     },
     "execution_count": 18,
     "metadata": {},
     "output_type": "execute_result"
    }
   ],
   "source": [
    "y_train_B[:30]"
   ]
  },
  {
   "cell_type": "code",
   "execution_count": 19,
   "id": "d1d69e4b",
   "metadata": {},
   "outputs": [],
   "source": [
    "#create a model A\n",
    "\n",
    "model_A = keras.models.Sequential()\n",
    "model_A.add(keras.layers.Flatten(input_shape=[28, 28]))\n",
    "for n_hidden in (300, 100, 50, 50, 50):\n",
    "    model_A.add(keras.layers.Dense(n_hidden, activation=\"selu\"))\n",
    "model_A.add(keras.layers.Dense(8, activation=\"softmax\"))"
   ]
  },
  {
   "cell_type": "code",
   "execution_count": 20,
   "id": "ae977839",
   "metadata": {},
   "outputs": [],
   "source": [
    "model_A.compile(loss=\"sparse_categorical_crossentropy\",\n",
    "                optimizer=keras.optimizers.SGD(learning_rate=1e-3),\n",
    "                metrics=[\"accuracy\"])"
   ]
  },
  {
   "cell_type": "code",
   "execution_count": 21,
   "id": "b6bc1d25",
   "metadata": {},
   "outputs": [
    {
     "name": "stdout",
     "output_type": "stream",
     "text": [
      "Epoch 1/20\n",
      "1375/1375 [==============================] - 10s 6ms/step - loss: 0.6136 - accuracy: 0.7945 - val_loss: 0.4080 - val_accuracy: 0.8595\n",
      "Epoch 2/20\n",
      "1375/1375 [==============================] - 8s 6ms/step - loss: 0.3743 - accuracy: 0.8695 - val_loss: 0.3362 - val_accuracy: 0.8884\n",
      "Epoch 3/20\n",
      "1375/1375 [==============================] - 9s 6ms/step - loss: 0.3286 - accuracy: 0.8851 - val_loss: 0.3127 - val_accuracy: 0.8931\n",
      "Epoch 4/20\n",
      "1375/1375 [==============================] - 8s 6ms/step - loss: 0.3038 - accuracy: 0.8936 - val_loss: 0.2925 - val_accuracy: 0.8991\n",
      "Epoch 5/20\n",
      "1375/1375 [==============================] - 8s 6ms/step - loss: 0.2884 - accuracy: 0.8998 - val_loss: 0.2855 - val_accuracy: 0.9021\n",
      "Epoch 6/20\n",
      "1375/1375 [==============================] - 8s 6ms/step - loss: 0.2772 - accuracy: 0.9034 - val_loss: 0.2757 - val_accuracy: 0.9041\n",
      "Epoch 7/20\n",
      "1375/1375 [==============================] - 8s 6ms/step - loss: 0.2679 - accuracy: 0.9087 - val_loss: 0.2690 - val_accuracy: 0.9111\n",
      "Epoch 8/20\n",
      "1375/1375 [==============================] - 8s 6ms/step - loss: 0.2609 - accuracy: 0.9119 - val_loss: 0.2627 - val_accuracy: 0.9101\n",
      "Epoch 9/20\n",
      "1375/1375 [==============================] - 8s 6ms/step - loss: 0.2547 - accuracy: 0.9124 - val_loss: 0.2605 - val_accuracy: 0.9131\n",
      "Epoch 10/20\n",
      "1375/1375 [==============================] - 8s 6ms/step - loss: 0.2496 - accuracy: 0.9153 - val_loss: 0.2603 - val_accuracy: 0.9126\n",
      "Epoch 11/20\n",
      "1375/1375 [==============================] - 8s 6ms/step - loss: 0.2452 - accuracy: 0.9166 - val_loss: 0.2566 - val_accuracy: 0.9116\n",
      "Epoch 12/20\n",
      "1375/1375 [==============================] - 8s 6ms/step - loss: 0.2412 - accuracy: 0.9174 - val_loss: 0.2526 - val_accuracy: 0.9141\n",
      "Epoch 13/20\n",
      "1375/1375 [==============================] - 8s 6ms/step - loss: 0.2374 - accuracy: 0.9196 - val_loss: 0.2477 - val_accuracy: 0.9155\n",
      "Epoch 14/20\n",
      "1375/1375 [==============================] - 8s 6ms/step - loss: 0.2340 - accuracy: 0.9204 - val_loss: 0.2479 - val_accuracy: 0.9158\n",
      "Epoch 15/20\n",
      "1375/1375 [==============================] - 8s 6ms/step - loss: 0.2310 - accuracy: 0.9216 - val_loss: 0.2452 - val_accuracy: 0.9173\n",
      "Epoch 16/20\n",
      "1375/1375 [==============================] - 8s 6ms/step - loss: 0.2277 - accuracy: 0.9213 - val_loss: 0.2433 - val_accuracy: 0.9170\n",
      "Epoch 17/20\n",
      "1375/1375 [==============================] - 8s 6ms/step - loss: 0.2250 - accuracy: 0.9228 - val_loss: 0.2431 - val_accuracy: 0.9150\n",
      "Epoch 18/20\n",
      "1375/1375 [==============================] - 8s 6ms/step - loss: 0.2226 - accuracy: 0.9227 - val_loss: 0.2456 - val_accuracy: 0.9138\n",
      "Epoch 19/20\n",
      "1375/1375 [==============================] - 8s 6ms/step - loss: 0.2201 - accuracy: 0.9246 - val_loss: 0.2407 - val_accuracy: 0.9198\n",
      "Epoch 20/20\n",
      "1375/1375 [==============================] - 8s 6ms/step - loss: 0.2176 - accuracy: 0.9248 - val_loss: 0.2395 - val_accuracy: 0.9165\n"
     ]
    }
   ],
   "source": [
    "history = model_A.fit(X_train_A, y_train_A, epochs=20,\n",
    "                    validation_data=(X_valid_A, y_valid_A))"
   ]
  },
  {
   "cell_type": "code",
   "execution_count": 22,
   "id": "269008e8",
   "metadata": {},
   "outputs": [],
   "source": [
    "#save this model, we will use it to build on next\n",
    "\n",
    "model_A.save(\"my_model_A.h5\")"
   ]
  },
  {
   "cell_type": "code",
   "execution_count": 23,
   "id": "af8dc897",
   "metadata": {},
   "outputs": [],
   "source": [
    "#Now create your model B for binary classification\n",
    "\n",
    "model_B = keras.models.Sequential()\n",
    "model_B.add(keras.layers.Flatten(input_shape=[28, 28]))\n",
    "for n_hidden in (300, 100, 50, 50, 50):\n",
    "    model_B.add(keras.layers.Dense(n_hidden, activation=\"selu\"))\n",
    "model_B.add(keras.layers.Dense(1, activation=\"sigmoid\"))"
   ]
  },
  {
   "cell_type": "code",
   "execution_count": 24,
   "id": "1f38a056",
   "metadata": {},
   "outputs": [],
   "source": [
    "model_B.compile(loss=\"binary_crossentropy\",\n",
    "                optimizer=keras.optimizers.SGD(learning_rate=1e-3),\n",
    "                metrics=[\"accuracy\"])"
   ]
  },
  {
   "cell_type": "code",
   "execution_count": 25,
   "id": "01f0e61f",
   "metadata": {},
   "outputs": [
    {
     "name": "stdout",
     "output_type": "stream",
     "text": [
      "Epoch 1/20\n",
      "7/7 [==============================] - 2s 95ms/step - loss: 0.7230 - accuracy: 0.5950 - val_loss: 0.6107 - val_accuracy: 0.6389\n",
      "Epoch 2/20\n",
      "7/7 [==============================] - 0s 33ms/step - loss: 0.5073 - accuracy: 0.7150 - val_loss: 0.4400 - val_accuracy: 0.7992\n",
      "Epoch 3/20\n",
      "7/7 [==============================] - 0s 34ms/step - loss: 0.3715 - accuracy: 0.8800 - val_loss: 0.3563 - val_accuracy: 0.8580\n",
      "Epoch 4/20\n",
      "7/7 [==============================] - 0s 33ms/step - loss: 0.3015 - accuracy: 0.9050 - val_loss: 0.3022 - val_accuracy: 0.8966\n",
      "Epoch 5/20\n",
      "7/7 [==============================] - 0s 34ms/step - loss: 0.2548 - accuracy: 0.9450 - val_loss: 0.2590 - val_accuracy: 0.9249\n",
      "Epoch 6/20\n",
      "7/7 [==============================] - 0s 34ms/step - loss: 0.2180 - accuracy: 0.9550 - val_loss: 0.2284 - val_accuracy: 0.9452\n",
      "Epoch 7/20\n",
      "7/7 [==============================] - 0s 34ms/step - loss: 0.1910 - accuracy: 0.9650 - val_loss: 0.2057 - val_accuracy: 0.9513\n",
      "Epoch 8/20\n",
      "7/7 [==============================] - 0s 33ms/step - loss: 0.1717 - accuracy: 0.9700 - val_loss: 0.1882 - val_accuracy: 0.9544\n",
      "Epoch 9/20\n",
      "7/7 [==============================] - 0s 34ms/step - loss: 0.1546 - accuracy: 0.9750 - val_loss: 0.1740 - val_accuracy: 0.9594\n",
      "Epoch 10/20\n",
      "7/7 [==============================] - 0s 34ms/step - loss: 0.1420 - accuracy: 0.9750 - val_loss: 0.1615 - val_accuracy: 0.9655\n",
      "Epoch 11/20\n",
      "7/7 [==============================] - 0s 34ms/step - loss: 0.1311 - accuracy: 0.9750 - val_loss: 0.1518 - val_accuracy: 0.9655\n",
      "Epoch 12/20\n",
      "7/7 [==============================] - 0s 35ms/step - loss: 0.1217 - accuracy: 0.9750 - val_loss: 0.1431 - val_accuracy: 0.9716\n",
      "Epoch 13/20\n",
      "7/7 [==============================] - 0s 35ms/step - loss: 0.1138 - accuracy: 0.9800 - val_loss: 0.1357 - val_accuracy: 0.9706\n",
      "Epoch 14/20\n",
      "7/7 [==============================] - 0s 34ms/step - loss: 0.1069 - accuracy: 0.9800 - val_loss: 0.1290 - val_accuracy: 0.9746\n",
      "Epoch 15/20\n",
      "7/7 [==============================] - 0s 34ms/step - loss: 0.1001 - accuracy: 0.9850 - val_loss: 0.1236 - val_accuracy: 0.9757\n",
      "Epoch 16/20\n",
      "7/7 [==============================] - 0s 33ms/step - loss: 0.0949 - accuracy: 0.9850 - val_loss: 0.1175 - val_accuracy: 0.9757\n",
      "Epoch 17/20\n",
      "7/7 [==============================] - 0s 33ms/step - loss: 0.0895 - accuracy: 0.9850 - val_loss: 0.1136 - val_accuracy: 0.9767\n",
      "Epoch 18/20\n",
      "7/7 [==============================] - 0s 37ms/step - loss: 0.0852 - accuracy: 0.9850 - val_loss: 0.1096 - val_accuracy: 0.9767\n",
      "Epoch 19/20\n",
      "7/7 [==============================] - 0s 35ms/step - loss: 0.0818 - accuracy: 0.9850 - val_loss: 0.1060 - val_accuracy: 0.9767\n",
      "Epoch 20/20\n",
      "7/7 [==============================] - 0s 34ms/step - loss: 0.0781 - accuracy: 0.9850 - val_loss: 0.1026 - val_accuracy: 0.9797\n"
     ]
    }
   ],
   "source": [
    "history = model_B.fit(X_train_B, y_train_B, epochs=20,\n",
    "                      validation_data=(X_valid_B, y_valid_B))"
   ]
  },
  {
   "cell_type": "code",
   "execution_count": 26,
   "id": "9e548d80",
   "metadata": {},
   "outputs": [
    {
     "name": "stdout",
     "output_type": "stream",
     "text": [
      "Model: \"sequential_3\"\n",
      "_________________________________________________________________\n",
      " Layer (type)                Output Shape              Param #   \n",
      "=================================================================\n",
      " flatten_3 (Flatten)         (None, 784)               0         \n",
      "                                                                 \n",
      " dense_12 (Dense)            (None, 300)               235500    \n",
      "                                                                 \n",
      " dense_13 (Dense)            (None, 100)               30100     \n",
      "                                                                 \n",
      " dense_14 (Dense)            (None, 50)                5050      \n",
      "                                                                 \n",
      " dense_15 (Dense)            (None, 50)                2550      \n",
      "                                                                 \n",
      " dense_16 (Dense)            (None, 50)                2550      \n",
      "                                                                 \n",
      " dense_17 (Dense)            (None, 1)                 51        \n",
      "                                                                 \n",
      "=================================================================\n",
      "Total params: 275,801\n",
      "Trainable params: 275,801\n",
      "Non-trainable params: 0\n",
      "_________________________________________________________________\n"
     ]
    }
   ],
   "source": [
    "#check the details of our model B\n",
    "\n",
    "model_B.summary()"
   ]
  },
  {
   "cell_type": "code",
   "execution_count": 27,
   "id": "a2ebd9f8",
   "metadata": {},
   "outputs": [],
   "source": [
    "#Now comes the transfer learning step.\n",
    "#load all layers from model A into model B on A except for the last one\n",
    "#add another final layer for binary classification\n",
    "\n",
    "model_A = keras.models.load_model(\"my_model_A.h5\")\n",
    "model_B_on_A = keras.models.Sequential(model_A.layers[:-1])\n",
    "model_B_on_A.add(keras.layers.Dense(1, activation=\"sigmoid\"))"
   ]
  },
  {
   "cell_type": "code",
   "execution_count": 29,
   "id": "c3fe5464",
   "metadata": {},
   "outputs": [],
   "source": [
    "#create a clone of model A\n",
    "\n",
    "model_A_clone = keras.models.clone_model(model_A)\n",
    "model_A_clone.set_weights(model_A.get_weights())\n",
    "model_B_on_A = keras.models.Sequential(model_A_clone.layers[:-1])\n",
    "model_B_on_A.add(keras.layers.Dense(1, activation=\"sigmoid\"))"
   ]
  },
  {
   "cell_type": "code",
   "execution_count": 30,
   "id": "bf0ac546",
   "metadata": {},
   "outputs": [],
   "source": [
    "for layer in model_B_on_A.layers[:-1]:\n",
    "    layer.trainable = False\n",
    "\n",
    "model_B_on_A.compile(loss=\"binary_crossentropy\",\n",
    "                     optimizer=keras.optimizers.SGD(learning_rate=1e-3),\n",
    "                     metrics=[\"accuracy\"])"
   ]
  },
  {
   "cell_type": "code",
   "execution_count": 31,
   "id": "93bf1f45",
   "metadata": {},
   "outputs": [
    {
     "name": "stdout",
     "output_type": "stream",
     "text": [
      "Epoch 1/4\n",
      "7/7 [==============================] - 2s 93ms/step - loss: 0.9756 - accuracy: 0.4800 - val_loss: 0.9653 - val_accuracy: 0.5294\n",
      "Epoch 2/4\n",
      "7/7 [==============================] - 0s 32ms/step - loss: 0.8995 - accuracy: 0.5150 - val_loss: 0.8986 - val_accuracy: 0.5588\n",
      "Epoch 3/4\n",
      "7/7 [==============================] - 0s 31ms/step - loss: 0.8333 - accuracy: 0.5600 - val_loss: 0.8370 - val_accuracy: 0.5923\n",
      "Epoch 4/4\n",
      "7/7 [==============================] - 0s 32ms/step - loss: 0.7729 - accuracy: 0.5950 - val_loss: 0.7818 - val_accuracy: 0.6298\n",
      "Epoch 1/16\n",
      "7/7 [==============================] - 2s 93ms/step - loss: 0.5911 - accuracy: 0.7100 - val_loss: 0.4469 - val_accuracy: 0.8154\n",
      "Epoch 2/16\n",
      "7/7 [==============================] - 0s 34ms/step - loss: 0.3590 - accuracy: 0.8650 - val_loss: 0.3016 - val_accuracy: 0.9168\n",
      "Epoch 3/16\n",
      "7/7 [==============================] - 0s 31ms/step - loss: 0.2493 - accuracy: 0.9300 - val_loss: 0.2344 - val_accuracy: 0.9473\n",
      "Epoch 4/16\n",
      "7/7 [==============================] - 0s 33ms/step - loss: 0.1940 - accuracy: 0.9650 - val_loss: 0.1932 - val_accuracy: 0.9584\n",
      "Epoch 5/16\n",
      "7/7 [==============================] - 0s 34ms/step - loss: 0.1581 - accuracy: 0.9850 - val_loss: 0.1654 - val_accuracy: 0.9635\n",
      "Epoch 6/16\n",
      "7/7 [==============================] - 0s 34ms/step - loss: 0.1339 - accuracy: 0.9850 - val_loss: 0.1442 - val_accuracy: 0.9675\n",
      "Epoch 7/16\n",
      "7/7 [==============================] - 0s 33ms/step - loss: 0.1146 - accuracy: 0.9850 - val_loss: 0.1292 - val_accuracy: 0.9726\n",
      "Epoch 8/16\n",
      "7/7 [==============================] - 0s 33ms/step - loss: 0.1013 - accuracy: 0.9900 - val_loss: 0.1173 - val_accuracy: 0.9736\n",
      "Epoch 9/16\n",
      "7/7 [==============================] - 0s 34ms/step - loss: 0.0904 - accuracy: 0.9900 - val_loss: 0.1074 - val_accuracy: 0.9777\n",
      "Epoch 10/16\n",
      "7/7 [==============================] - 0s 35ms/step - loss: 0.0814 - accuracy: 0.9900 - val_loss: 0.0998 - val_accuracy: 0.9797\n",
      "Epoch 11/16\n",
      "7/7 [==============================] - 0s 33ms/step - loss: 0.0744 - accuracy: 0.9900 - val_loss: 0.0940 - val_accuracy: 0.9817\n",
      "Epoch 12/16\n",
      "7/7 [==============================] - 0s 34ms/step - loss: 0.0690 - accuracy: 0.9950 - val_loss: 0.0886 - val_accuracy: 0.9817\n",
      "Epoch 13/16\n",
      "7/7 [==============================] - 0s 33ms/step - loss: 0.0639 - accuracy: 0.9950 - val_loss: 0.0843 - val_accuracy: 0.9828\n",
      "Epoch 14/16\n",
      "7/7 [==============================] - 0s 34ms/step - loss: 0.0600 - accuracy: 1.0000 - val_loss: 0.0805 - val_accuracy: 0.9838\n",
      "Epoch 15/16\n",
      "7/7 [==============================] - 0s 34ms/step - loss: 0.0564 - accuracy: 1.0000 - val_loss: 0.0764 - val_accuracy: 0.9848\n",
      "Epoch 16/16\n",
      "7/7 [==============================] - 0s 36ms/step - loss: 0.0526 - accuracy: 1.0000 - val_loss: 0.0730 - val_accuracy: 0.9868\n"
     ]
    }
   ],
   "source": [
    "history = model_B_on_A.fit(X_train_B, y_train_B, epochs=4,\n",
    "                           validation_data=(X_valid_B, y_valid_B))\n",
    "\n",
    "for layer in model_B_on_A.layers[:-1]:\n",
    "    layer.trainable = True\n",
    "\n",
    "model_B_on_A.compile(loss=\"binary_crossentropy\",\n",
    "                     optimizer=keras.optimizers.SGD(learning_rate=1e-3),\n",
    "                     metrics=[\"accuracy\"])\n",
    "history = model_B_on_A.fit(X_train_B, y_train_B, epochs=16,\n",
    "                           validation_data=(X_valid_B, y_valid_B))"
   ]
  },
  {
   "cell_type": "code",
   "execution_count": 32,
   "id": "d388dadb",
   "metadata": {},
   "outputs": [
    {
     "name": "stdout",
     "output_type": "stream",
     "text": [
      "63/63 [==============================] - 0s 5ms/step - loss: 0.0999 - accuracy: 0.9785\n"
     ]
    },
    {
     "data": {
      "text/plain": [
       "[0.09989636391401291, 0.9785000085830688]"
      ]
     },
     "execution_count": 32,
     "metadata": {},
     "output_type": "execute_result"
    }
   ],
   "source": [
    "#now compare our results\n",
    "\n",
    "model_B.evaluate(X_test_B, y_test_B)"
   ]
  },
  {
   "cell_type": "code",
   "execution_count": 33,
   "id": "84b03e71",
   "metadata": {},
   "outputs": [
    {
     "name": "stdout",
     "output_type": "stream",
     "text": [
      "63/63 [==============================] - 0s 4ms/step - loss: 0.0729 - accuracy: 0.9900\n"
     ]
    },
    {
     "data": {
      "text/plain": [
       "[0.07287653535604477, 0.9900000095367432]"
      ]
     },
     "execution_count": 33,
     "metadata": {},
     "output_type": "execute_result"
    }
   ],
   "source": [
    "model_B_on_A.evaluate(X_test_B, y_test_B)"
   ]
  },
  {
   "cell_type": "code",
   "execution_count": 34,
   "id": "089fd81f",
   "metadata": {},
   "outputs": [],
   "source": [
    "#shows a great improvement through transfer learning.\n",
    "#transfer learning works best with deep CNNs.\n",
    "\n",
    "#Learning rate scheduling is another important technique\n",
    "#finding an optimal learning rate at each point of training helps to achieve a better solution.\n",
    "\n",
    "#implementing power scheduling in keras\n",
    "\n",
    "#optimizer = keras.optimizers.SGD(lr=0.01, decay=1e-4)\n",
    "\n",
    "#more detail in the text.\n"
   ]
  },
  {
   "cell_type": "code",
   "execution_count": 36,
   "id": "96a28ef5",
   "metadata": {},
   "outputs": [],
   "source": [
    "#avoiding overfitting through regularization\n",
    "\n",
    "#early stopping is one of the best regularization techniques.\n",
    "#other popular methods are l1, l2, dropout and maxnorm\n",
    "\n",
    "#l1 and l2 first\n",
    "\n",
    "layer = keras.layers.Dense(100, activation='elu',\n",
    "                          kernel_initializer='he_normal',\n",
    "                          kernel_regularizer=keras.regularizers.l2(0.01))"
   ]
  },
  {
   "cell_type": "code",
   "execution_count": 37,
   "id": "126fb056",
   "metadata": {},
   "outputs": [],
   "source": [
    "#you will want to apply same regularizer to each layer\n",
    "#can use partial to create a wrapper.\n",
    "\n",
    "from functools import partial\n",
    "\n",
    "RegularizedDense = partial(keras.layers.Dense,\n",
    "                          activation='elu',\n",
    "                          kernel_initializer='he_normal',\n",
    "                          kernel_regularizer=keras.regularizers.l2(0.01))\n",
    "\n",
    "model = keras.models.Sequential([\n",
    "    keras.layers.Flatten(input_shape=[28,28]),\n",
    "    RegularizedDense(300),\n",
    "    RegularizedDense(100),\n",
    "    RegularizedDense(10, activation='softmax',\n",
    "                    kernel_initializer='glorot_uniform')\n",
    "])"
   ]
  },
  {
   "cell_type": "code",
   "execution_count": 38,
   "id": "166833a1",
   "metadata": {},
   "outputs": [],
   "source": [
    "#dropout is a popular regularizer. randomly drops neurons during training steps.\n",
    "\n",
    "model = keras.models.Sequential([\n",
    "    keras.layers.Flatten(input_shape=[28,28]),\n",
    "    keras.layers.Dropout(rate=0.2),\n",
    "    keras.layers.Dense(300, activation='elu', kernel_initializer='he_normal'),\n",
    "    keras.layers.Dropout(rate=0.2),\n",
    "    keras.layers.Dense(100, activation='elu', kernel_initializer='he_normal'),\n",
    "    keras.layers.Dropout(rate=0.2),\n",
    "    keras.layers.Dense(100, activation='softmax')\n",
    "])"
   ]
  },
  {
   "cell_type": "code",
   "execution_count": 40,
   "id": "e24d5d83",
   "metadata": {},
   "outputs": [
    {
     "data": {
      "text/plain": [
       "<keras.layers.core.dense.Dense at 0x2bcc0a05480>"
      ]
     },
     "execution_count": 40,
     "metadata": {},
     "output_type": "execute_result"
    }
   ],
   "source": [
    "#Monte Carlo Dropout is an important technique which can boost models performance significantly. \n",
    "#Simple to implement\n",
    "\n",
    "#Final technique is max norm regularization\n",
    "\n",
    "keras.layers.Dense(100, activation='elu', kernel_initializer='he_normal',\n",
    "                  kernel_constraint=keras.constraints.max_norm(1.))"
   ]
  },
  {
   "cell_type": "code",
   "execution_count": null,
   "id": "b2a46f4e",
   "metadata": {},
   "outputs": [],
   "source": [
    "#if a network is a stack of dense layers, it should be able to self normalize.\n",
    "\n",
    "\n"
   ]
  }
 ],
 "metadata": {
  "kernelspec": {
   "display_name": "Python 3 (ipykernel)",
   "language": "python",
   "name": "python3"
  },
  "language_info": {
   "codemirror_mode": {
    "name": "ipython",
    "version": 3
   },
   "file_extension": ".py",
   "mimetype": "text/x-python",
   "name": "python",
   "nbconvert_exporter": "python",
   "pygments_lexer": "ipython3",
   "version": "3.10.5"
  }
 },
 "nbformat": 4,
 "nbformat_minor": 5
}
